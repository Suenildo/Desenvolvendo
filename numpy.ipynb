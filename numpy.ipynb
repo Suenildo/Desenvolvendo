{
 "cells": [
  {
   "cell_type": "markdown",
   "metadata": {
    "slideshow": {
     "slide_type": "-"
    }
   },
   "source": [
    "# O que é Numpy\n",
    "\n",
    "###  Numpy é um pacote para computação científica usado em Python, que fornece recursos e uma variedade de rotinas para operações rápidas em matrizes, incluindo matemática, lógica, manipulação de formas, classificação, seleção, E/S (I/O), transformações discretas de Fourier, álgebra linear básica, operações estatísticas básicas, simulação aleatória e muito mais.\n"
   ]
  },
  {
   "cell_type": "markdown",
   "metadata": {},
   "source": [
    "## Criação de um Array:\n",
    "\n",
    "### 1) A biblioteca Numpy não é nativa, logo temos que importá-la;\n",
    "### 2) É comum na comunidade Python você dá um elias para a biblioteca, usaremos a padrão \"np\";\n",
    "### 3) Guardamos o Array em uma variável."
   ]
  },
  {
   "cell_type": "code",
   "execution_count": 26,
   "metadata": {},
   "outputs": [],
   "source": [
    "import numpy as np"
   ]
  },
  {
   "cell_type": "markdown",
   "metadata": {},
   "source": [
    "## Criando um Array unidimensional "
   ]
  },
  {
   "cell_type": "code",
   "execution_count": 27,
   "metadata": {},
   "outputs": [],
   "source": [
    "a = np.array([1, 2, 3])"
   ]
  },
  {
   "cell_type": "code",
   "execution_count": 28,
   "metadata": {},
   "outputs": [
    {
     "name": "stdout",
     "output_type": "stream",
     "text": [
      "<class 'numpy.ndarray'>\n",
      "[1 2 3]\n"
     ]
    }
   ],
   "source": [
    "# observemos o tipo do objeto criado\n",
    "print(type(a)) \n",
    "print(a)"
   ]
  },
  {
   "cell_type": "markdown",
   "metadata": {},
   "source": [
    "## Criando um Array com a função ( arange() )\n",
    "- A função arange cria um arranjo contendo uma seqüência de valores especificados em um intervalo com início e fim dados, espaçados de maneira uniforme."
   ]
  },
  {
   "cell_type": "markdown",
   "metadata": {},
   "source": [
    "### np.arange(2, 15, 3, dtype=float)\n",
    "- 2 = ponto de partida\n",
    "- 15 = ponto de parada\n",
    "- 3 = incremento\n",
    "- dtype=float = tpipo de dado"
   ]
  },
  {
   "cell_type": "code",
   "execution_count": 29,
   "metadata": {},
   "outputs": [
    {
     "data": {
      "text/plain": [
       "array([1., 3., 5., 7., 9.])"
      ]
     },
     "execution_count": 29,
     "metadata": {},
     "output_type": "execute_result"
    }
   ],
   "source": [
    "np.arange(1, 10, 2, dtype=float)"
   ]
  },
  {
   "cell_type": "markdown",
   "metadata": {},
   "source": [
    "## Criando um Array com o método ( linspace() )\n",
    "-  A função linspace cria uma seqüência de números uniformemente espaçados entre os limites dados."
   ]
  },
  {
   "cell_type": "markdown",
   "metadata": {},
   "source": [
    "### np.linspace(1.0, 10.0, num = 5, dtype=float)\n",
    "- 1.0 = ponto de partida\n",
    "- 10.0 = ponto de parada\n",
    "- 5 = quantidade de valores\n",
    "- dtype=float = tipo de dado"
   ]
  },
  {
   "cell_type": "code",
   "execution_count": 30,
   "metadata": {},
   "outputs": [
    {
     "data": {
      "text/plain": [
       "array([ 1. ,  2.5,  4. ,  5.5,  7. ,  8.5, 10. ])"
      ]
     },
     "execution_count": 30,
     "metadata": {},
     "output_type": "execute_result"
    }
   ],
   "source": [
    "np.linspace(1, 10, num=7, dtype=float)"
   ]
  },
  {
   "cell_type": "markdown",
   "metadata": {},
   "source": [
    "## Criando um Array com:\n",
    "### rand\n",
    "- Cria um array com distribuição uniforme de números aleatórios entre 0 e 1.\n",
    " - np.random.rand(10)\n",
    "   - 10 = número de valores.\n",
    "   \n",
    "### randn\n",
    "- Cria um array de distribuição normal, de média 0 e variância 1.\n",
    " - np.random.randn(10)\n",
    "   - 10 = número de valores.\n",
    "\n",
    "\n",
    "### randint\n",
    "- Cria um array com o número determinado de valores inteiros, aleatórios em um intervalo estabelecido. \n",
    " - np.random.randint(5, 20, 12)\n",
    "   - 5 = início \n",
    "   - 20 = final \n",
    "   - 12 = quantidade de valores"
   ]
  },
  {
   "cell_type": "code",
   "execution_count": 31,
   "metadata": {},
   "outputs": [
    {
     "data": {
      "text/plain": [
       "array([0.78415363, 0.5104413 , 0.53310103, 0.15362388, 0.56146349,\n",
       "       0.99410719, 0.54917041, 0.03633962, 0.16156056, 0.36389857,\n",
       "       0.23068667, 0.34045757, 0.18659702, 0.39391418, 0.88871391,\n",
       "       0.00291634, 0.55046496, 0.18026766, 0.15636993, 0.27222189,\n",
       "       0.71679702, 0.17874616, 0.77636652])"
      ]
     },
     "execution_count": 31,
     "metadata": {},
     "output_type": "execute_result"
    }
   ],
   "source": [
    "np.random.rand(23)      "
   ]
  },
  {
   "cell_type": "code",
   "execution_count": 32,
   "metadata": {},
   "outputs": [
    {
     "data": {
      "text/plain": [
       "array([-0.65198414,  0.75804692,  1.76851342, -0.51912246,  0.93281173,\n",
       "       -0.0208892 , -0.70109404, -0.19739203, -0.2846141 , -2.33034579,\n",
       "        0.30840347,  0.65067642])"
      ]
     },
     "execution_count": 32,
     "metadata": {},
     "output_type": "execute_result"
    }
   ],
   "source": [
    "np.random.randn(12)"
   ]
  },
  {
   "cell_type": "code",
   "execution_count": 33,
   "metadata": {},
   "outputs": [
    {
     "data": {
      "text/plain": [
       "array([ 5, 20, 19,  6, 13, 19, 10, 21, 16, 18])"
      ]
     },
     "execution_count": 33,
     "metadata": {},
     "output_type": "execute_result"
    }
   ],
   "source": [
    "np.random.randint(3, 27, 10)"
   ]
  },
  {
   "cell_type": "markdown",
   "metadata": {},
   "source": [
    "### se você limitar muito o intervalo, ele repete valores, como abaixo:"
   ]
  },
  {
   "cell_type": "code",
   "execution_count": 34,
   "metadata": {},
   "outputs": [
    {
     "data": {
      "text/plain": [
       "array([3, 3, 3, 3, 3, 3])"
      ]
     },
     "execution_count": 34,
     "metadata": {},
     "output_type": "execute_result"
    }
   ],
   "source": [
    "np.random.randint(3, 4, 6)"
   ]
  },
  {
   "cell_type": "markdown",
   "metadata": {},
   "source": [
    "# Os atributos mais importantes de um objeto array são:\n",
    "\n",
    "## ndarray.ndim\n",
    " - Nos dá o número de eixos (dimensões) da matriz.\n",
    " \n",
    "## ndarray.shape\n",
    "- Dá as dimensões da matriz. Esta é uma tupla de inteiros indicando o tamanho da matriz em cada dimensão. Para\n",
    "  matriz com n linhas em colunas, a forma será (n, m). O comprimento da tupla de forma é, portanto, o número\n",
    "  de dimensões, ndim.\n",
    "  \n",
    "## ndarray.size\n",
    " - nos dá o número total de elementos da matriz. \n",
    " \n",
    "## ndarray.dtype\n",
    " - um objeto que descreve o tipo dos elementos na matriz. Pode-se criar ou especificar dtype's usando o tipo padrão do Python.    Além disso, o NumPy fornece seus próprios tipos. (numpy.int32, numpy.int16 e numpy.float64) são alguns exemplos.\n",
    " \n",
    "## ndarray.itemsize\n",
    " - Nos dá o tamanho em bytes de cada elemento da matriz. Por exemplo, uma matriz de elementos do tipo float64 tem itemsize\n",
    "   8 (= 64/8), enquanto um do tipo complex32 tem tamanho de item 4 (= 32/8). \n",
    "   \n",
    "## ndarray.data\n",
    " - Nos dá o buffer que contém os elementos reais da matriz. Normalmente, não precisamos usar este atributo porque nós podemos \n",
    "   acessará os elementos em uma matriz usando recursos de indexação."
   ]
  },
  {
   "cell_type": "code",
   "execution_count": 35,
   "metadata": {},
   "outputs": [],
   "source": [
    "# Dado o Array:\n",
    "vetor = np.array([1, 2, 3, 4, 5, 6, 7, 9])"
   ]
  },
  {
   "cell_type": "code",
   "execution_count": 36,
   "metadata": {},
   "outputs": [
    {
     "name": "stdout",
     "output_type": "stream",
     "text": [
      "Meu número de eixos é: 1\n",
      "Meu número de dimensões é: (8,)\n",
      "Meu número de elementos é: 8\n",
      "Eu possuo o seguinte tipo de dados: int32\n",
      "O tamanho em bytes de cada elemento vetor é: 4\n",
      "O buffer que contém os elementos reais da matriz é: <memory at 0x00000209DDFB7888>\n"
     ]
    }
   ],
   "source": [
    "print(f'Meu número de eixos é: {vetor.ndim}')\n",
    "print(f'Meu número de dimensões é: {vetor.shape}')\n",
    "print(f'Meu número de elementos é: {vetor.size}')\n",
    "print(f'Eu possuo o seguinte tipo de dados: {vetor.dtype}')\n",
    "print(f'O tamanho em bytes de cada elemento vetor é: {vetor.itemsize}')\n",
    "print(f'O buffer que contém os elementos reais da matriz é: {vetor.data}')\n",
    "\n",
    "\n"
   ]
  },
  {
   "cell_type": "markdown",
   "metadata": {},
   "source": [
    "## Criação de algumas matrizes especiais:\n",
    "### Matriz com todos os elementos contendo \"0\"\n",
    "### Matriz com todos os elementos contendo \"1\"\n",
    "### Matriz Identidade\n",
    "### Matriz diagonal"
   ]
  },
  {
   "cell_type": "code",
   "execution_count": 41,
   "metadata": {},
   "outputs": [
    {
     "name": "stdout",
     "output_type": "stream",
     "text": [
      "[[0. 0. 0. 0. 0.]\n",
      " [0. 0. 0. 0. 0.]\n",
      " [0. 0. 0. 0. 0.]\n",
      " [0. 0. 0. 0. 0.]]\n"
     ]
    }
   ],
   "source": [
    "matriz_0 = np.zeros((4, 5))\n",
    "print(matriz_0)"
   ]
  },
  {
   "cell_type": "code",
   "execution_count": 40,
   "metadata": {},
   "outputs": [
    {
     "name": "stdout",
     "output_type": "stream",
     "text": [
      "[[1. 1. 1. 1. 1.]\n",
      " [1. 1. 1. 1. 1.]\n",
      " [1. 1. 1. 1. 1.]\n",
      " [1. 1. 1. 1. 1.]]\n"
     ]
    }
   ],
   "source": [
    "matriz_1 = np.ones((4, 5))\n",
    "print(matriz_1)"
   ]
  },
  {
   "cell_type": "code",
   "execution_count": 45,
   "metadata": {},
   "outputs": [
    {
     "name": "stdout",
     "output_type": "stream",
     "text": [
      "[[1. 0. 0. 0.]\n",
      " [0. 1. 0. 0.]\n",
      " [0. 0. 1. 0.]\n",
      " [0. 0. 0. 1.]]\n"
     ]
    }
   ],
   "source": [
    "matriz_identidade = np.eye(4)\n",
    "print(matriz_identidade)\n",
    "# Sempre uma madriz quadrada\n"
   ]
  },
  {
   "cell_type": "code",
   "execution_count": 47,
   "metadata": {},
   "outputs": [
    {
     "name": "stdout",
     "output_type": "stream",
     "text": [
      "[[4 0 0 0]\n",
      " [0 5 0 0]\n",
      " [0 0 1 0]\n",
      " [0 0 0 6]]\n"
     ]
    }
   ],
   "source": [
    "matriz_diag = np.diag([4, 5, 1, 6])\n",
    "print(matriz_diag)\n",
    "# Sempre uma madriz quadrada, a dimensão vai depender da quantidade de elementos da diagonal passada."
   ]
  },
  {
   "cell_type": "markdown",
   "metadata": {},
   "source": [
    "# Criando um Array com mais de uma dimensão "
   ]
  },
  {
   "cell_type": "code",
   "execution_count": 10,
   "metadata": {},
   "outputs": [],
   "source": [
    "b = np.array([[1, 2, 3], [1, 4, 9]])"
   ]
  },
  {
   "cell_type": "code",
   "execution_count": 11,
   "metadata": {},
   "outputs": [
    {
     "name": "stdout",
     "output_type": "stream",
     "text": [
      "[[1 2 3]\n",
      " [1 4 9]]\n"
     ]
    }
   ],
   "source": [
    "print(b)"
   ]
  },
  {
   "cell_type": "code",
   "execution_count": null,
   "metadata": {},
   "outputs": [],
   "source": [
    "# Note que a quantidade de \"colchetes\" que finaliza o Array, mostra quantas dimensões ele possui."
   ]
  }
 ],
 "metadata": {
  "kernelspec": {
   "display_name": "Python 3.7.1 64-bit ('base': conda)",
   "language": "python",
   "name": "python37164bitbasecondac8b4d9f5402d4ee796879211d41505b2"
  },
  "language_info": {
   "codemirror_mode": {
    "name": "ipython",
    "version": 3
   },
   "file_extension": ".py",
   "mimetype": "text/x-python",
   "name": "python",
   "nbconvert_exporter": "python",
   "pygments_lexer": "ipython3",
   "version": "3.7.1"
  }
 },
 "nbformat": 4,
 "nbformat_minor": 2
}
