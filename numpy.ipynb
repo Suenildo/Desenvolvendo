{
 "cells": [
  {
   "cell_type": "markdown",
   "metadata": {
    "slideshow": {
     "slide_type": "-"
    }
   },
   "source": [
    "# O que é Numpy\n",
    "\n",
    "###  Numpy é um pacote para computação científica usado em Python, que fornece recursos e uma variedade de rotinas para operações rápidas em matrizes, incluindo matemática, lógica, manipulação de formas, classificação, seleção, E/S (I/O), transformações discretas de Fourier, álgebra linear básica, operações estatísticas básicas, simulação aleatória e muito mais.\n"
   ]
  },
  {
   "cell_type": "markdown",
   "metadata": {},
   "source": [
    "## Criação de um Array:\n",
    "\n",
    "### 1) A biblioteca Numpy não é nativa, logo temos que importá-la;\n",
    "### 2) É comum na comunidade Python você dá um elias para a biblioteca, usaremos a padrão \"np\";\n",
    "### 3) Guardamos o Array em uma variável."
   ]
  },
  {
   "cell_type": "code",
   "execution_count": null,
   "metadata": {},
   "outputs": [],
   "source": [
    "import numpy as np"
   ]
  },
  {
   "cell_type": "markdown",
   "metadata": {},
   "source": [
    "## Criando um Array unidimensional "
   ]
  },
  {
   "cell_type": "code",
   "execution_count": 2,
   "metadata": {},
   "outputs": [],
   "source": [
    "a = np.array([1, 2, 3])"
   ]
  },
  {
   "cell_type": "code",
   "execution_count": 3,
   "metadata": {},
   "outputs": [
    {
     "name": "stdout",
     "output_type": "stream",
     "text": [
      "<class 'numpy.ndarray'>\n",
      "[1 2 3]\n"
     ]
    }
   ],
   "source": [
    "# observemos o tipo do objeto criado\n",
    "print(type(a)) \n",
    "print(a)"
   ]
  },
  {
   "cell_type": "markdown",
   "metadata": {},
   "source": [
    "## Criando um Array com mais de uma dimensão "
   ]
  },
  {
   "cell_type": "code",
   "execution_count": 4,
   "metadata": {},
   "outputs": [],
   "source": [
    "b = np.array([[1, 2, 3], [1, 4, 9]])"
   ]
  },
  {
   "cell_type": "code",
   "execution_count": 5,
   "metadata": {},
   "outputs": [
    {
     "name": "stdout",
     "output_type": "stream",
     "text": [
      "[[1 2 3]\n",
      " [1 4 9]]\n"
     ]
    }
   ],
   "source": [
    "print(b)"
   ]
  },
  {
   "cell_type": "markdown",
   "metadata": {},
   "source": [
    "# Os atributos mais importantes de um objeto array são:\n",
    "\n",
    "## ndarray.ndim\n",
    " - Nos dá o número de eixos (dimensões) da matriz.\n",
    " \n",
    "## ndarray.shape\n",
    "- Dá as dimensões da matriz. Esta é uma tupla de inteiros indicando o tamanho da matriz em cada dimensão. Para\n",
    "  matriz com n linhas em colunas, a forma será (n, m). O comprimento da tupla de forma é, portanto, o número\n",
    "  de dimensões, ndim.\n",
    "  \n",
    "## ndarray.size\n",
    " - nos dá o número total de elementos da matriz. \n",
    " \n",
    "## ndarray.dtype\n",
    " - um objeto que descreve o tipo dos elementos na matriz. Pode-se criar ou especificar dtype's usando o tipo padrão do Python.    Além disso, o NumPy fornece seus próprios tipos. (numpy.int32, numpy.int16 e numpy.float64) são alguns exemplos.\n",
    " \n",
    "## ndarray.itemsize\n",
    " - Nos dá o tamanho em bytes de cada elemento da matriz. Por exemplo, uma matriz de elementos do tipo float64 tem itemsize\n",
    "   8 (= 64/8), enquanto um do tipo complex32 tem tamanho de item 4 (= 32/8). \n",
    "   \n",
    "## ndarray.data\n",
    " - Nos dá o buffer que contém os elementos reais da matriz. Normalmente, não precisamos usar este atributo porque nós podemos \n",
    "   acessará os elementos em uma matriz usando recursos de indexação."
   ]
  },
  {
   "cell_type": "code",
   "execution_count": null,
   "metadata": {},
   "outputs": [],
   "source": []
  }
 ],
 "metadata": {
  "kernelspec": {
   "display_name": "Python 3.7.1 64-bit ('base': conda)",
   "language": "python",
   "name": "python37164bitbasecondac8b4d9f5402d4ee796879211d41505b2"
  },
  "language_info": {
   "codemirror_mode": {
    "name": "ipython",
    "version": 3
   },
   "file_extension": ".py",
   "mimetype": "text/x-python",
   "name": "python",
   "nbconvert_exporter": "python",
   "pygments_lexer": "ipython3",
   "version": "3.7.1"
  }
 },
 "nbformat": 4,
 "nbformat_minor": 2
}
