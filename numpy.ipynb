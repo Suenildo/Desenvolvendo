{
 "cells": [
  {
   "cell_type": "markdown",
   "metadata": {
    "slideshow": {
     "slide_type": "-"
    }
   },
   "source": [
    "# O que é Numpy\n",
    "\n",
    "###  Numpy é um pacote para computação científica usado em Python, que fornece recursos e uma variedade de rotinas para operações rápidas em matrizes, incluindo matemática, lógica, manipulação de formas, classificação, seleção, E/S (I/O), transformações discretas de Fourier, álgebra linear básica, operações estatísticas básicas, simulação aleatória e muito mais.\n"
   ]
  },
  {
   "cell_type": "markdown",
   "metadata": {},
   "source": [
    "## Criação de um Array:\n",
    "\n",
    "### 1) A biblioteca Numpy não é nativa, logo temos que importá-la;\n",
    "### 2) É comum na comunidade Python você dá um elias para a biblioteca, usaremos a padrão \"np\";\n",
    "### 3) Guardamos o Array em uma variável."
   ]
  },
  {
   "cell_type": "code",
   "execution_count": 1,
   "metadata": {},
   "outputs": [],
   "source": [
    "import numpy as np"
   ]
  },
  {
   "cell_type": "markdown",
   "metadata": {},
   "source": [
    "## Criando um Array unidimensional "
   ]
  },
  {
   "cell_type": "code",
   "execution_count": 2,
   "metadata": {},
   "outputs": [],
   "source": [
    "a = np.array([1, 2, 3])"
   ]
  },
  {
   "cell_type": "code",
   "execution_count": 3,
   "metadata": {},
   "outputs": [
    {
     "name": "stdout",
     "output_type": "stream",
     "text": [
      "<class 'numpy.ndarray'>\n",
      "[1 2 3]\n"
     ]
    }
   ],
   "source": [
    "# observemos o tipo do objeto criado\n",
    "print(type(a)) \n",
    "print(a)"
   ]
  },
  {
   "cell_type": "markdown",
   "metadata": {},
   "source": [
    "## Criando um Array com a função ( arange() )\n",
    "- A função arange cria um arranjo contendo uma seqüência de valores especificados em um intervalo com início e fim dados, espaçados de maneira uniforme."
   ]
  },
  {
   "cell_type": "markdown",
   "metadata": {},
   "source": [
    "### np.arange(2, 15, 3, dtype=float)\n",
    "- 2 = ponto de partida\n",
    "- 15 = ponto de parada\n",
    "- 3 = incremento\n",
    "- dtype=float = tpipo de dado"
   ]
  },
  {
   "cell_type": "code",
   "execution_count": 4,
   "metadata": {},
   "outputs": [
    {
     "data": {
      "text/plain": [
       "array([1., 3., 5., 7., 9.])"
      ]
     },
     "execution_count": 4,
     "metadata": {},
     "output_type": "execute_result"
    }
   ],
   "source": [
    "np.arange(1, 10, 2, dtype=float)"
   ]
  },
  {
   "cell_type": "markdown",
   "metadata": {},
   "source": [
    "## Criando um Array com o método ( linspace() )\n",
    "-  A função linspace cria uma seqüência de números uniformemente espaçados entre os limites dados."
   ]
  },
  {
   "cell_type": "markdown",
   "metadata": {},
   "source": [
    "### np.linspace(1.0, 10.0, num = 5, dtype=float)\n",
    "- 1.0 = ponto de partida\n",
    "- 10.0 = ponto de parada\n",
    "- 5 = quantidade de valores\n",
    "- dtype=float = tipo de dado"
   ]
  },
  {
   "cell_type": "code",
   "execution_count": 5,
   "metadata": {},
   "outputs": [
    {
     "data": {
      "text/plain": [
       "array([ 1. ,  2.5,  4. ,  5.5,  7. ,  8.5, 10. ])"
      ]
     },
     "execution_count": 5,
     "metadata": {},
     "output_type": "execute_result"
    }
   ],
   "source": [
    "np.linspace(1, 10, num=7, dtype=float)"
   ]
  },
  {
   "cell_type": "markdown",
   "metadata": {},
   "source": [
    "### Se não for informado a quantidade de valores serão criados, por padrão, 50 valores."
   ]
  },
  {
   "cell_type": "code",
   "execution_count": 6,
   "metadata": {},
   "outputs": [
    {
     "data": {
      "text/plain": [
       "array([ 1.        ,  1.18367347,  1.36734694,  1.55102041,  1.73469388,\n",
       "        1.91836735,  2.10204082,  2.28571429,  2.46938776,  2.65306122,\n",
       "        2.83673469,  3.02040816,  3.20408163,  3.3877551 ,  3.57142857,\n",
       "        3.75510204,  3.93877551,  4.12244898,  4.30612245,  4.48979592,\n",
       "        4.67346939,  4.85714286,  5.04081633,  5.2244898 ,  5.40816327,\n",
       "        5.59183673,  5.7755102 ,  5.95918367,  6.14285714,  6.32653061,\n",
       "        6.51020408,  6.69387755,  6.87755102,  7.06122449,  7.24489796,\n",
       "        7.42857143,  7.6122449 ,  7.79591837,  7.97959184,  8.16326531,\n",
       "        8.34693878,  8.53061224,  8.71428571,  8.89795918,  9.08163265,\n",
       "        9.26530612,  9.44897959,  9.63265306,  9.81632653, 10.        ])"
      ]
     },
     "execution_count": 6,
     "metadata": {},
     "output_type": "execute_result"
    }
   ],
   "source": [
    "np.linspace(1, 10)"
   ]
  },
  {
   "cell_type": "markdown",
   "metadata": {},
   "source": [
    "## Criando um Array com:\n",
    "### rand\n",
    "- Cria um array com distribuição uniforme de números aleatórios entre 0 e 1.\n",
    " - np.random.rand(10)\n",
    "   - 10 = número de valores.\n",
    "   \n",
    "### randn\n",
    "- Cria um array de distribuição normal, de média 0 e variância 1.\n",
    " - np.random.randn(10)\n",
    "   - 10 = número de valores.\n",
    "\n",
    "\n",
    "### randint\n",
    "- Cria um array com o número determinado de valores inteiros, aleatórios em um intervalo estabelecido. \n",
    " - np.random.randint(5, 20, 12)\n",
    "   - 5 = início \n",
    "   - 20 = final \n",
    "   - 12 = quantidade de valores"
   ]
  },
  {
   "cell_type": "markdown",
   "metadata": {},
   "source": [
    "## Entendendo a chamada da função:\n",
    "### np.random.rand()\n",
    "- np = Biblioteca \"Numpy\"\n",
    "- random = Módulo \"random\", contido na Biblioteca \"Nunpy\"\n",
    "- rand = Função \"rand\", contida no Módulo \"random\""
   ]
  },
  {
   "cell_type": "code",
   "execution_count": 7,
   "metadata": {},
   "outputs": [
    {
     "data": {
      "text/plain": [
       "array([0.67742547, 0.38859771, 0.61412215, 0.25839478, 0.8509959 ,\n",
       "       0.85645127, 0.82377557, 0.15868741, 0.22602614, 0.98833179,\n",
       "       0.96267764, 0.71137825, 0.32455621, 0.38095225, 0.13818565,\n",
       "       0.39197979, 0.96816732, 0.34146237, 0.99377026, 0.38763719,\n",
       "       0.76684335, 0.33414103, 0.04438467])"
      ]
     },
     "execution_count": 7,
     "metadata": {},
     "output_type": "execute_result"
    }
   ],
   "source": [
    "np.random.rand(23)      "
   ]
  },
  {
   "cell_type": "code",
   "execution_count": 8,
   "metadata": {},
   "outputs": [
    {
     "data": {
      "text/plain": [
       "array([ 0.08263333, -0.49727469, -0.50390052,  0.59726812,  1.72453442,\n",
       "       -0.37518548, -0.59354182, -1.11485415,  0.50561546, -0.25203159,\n",
       "        0.90719584, -0.57666833])"
      ]
     },
     "execution_count": 8,
     "metadata": {},
     "output_type": "execute_result"
    }
   ],
   "source": [
    "np.random.randn(12)"
   ]
  },
  {
   "cell_type": "code",
   "execution_count": 9,
   "metadata": {},
   "outputs": [
    {
     "data": {
      "text/plain": [
       "array([ 3, 17, 17,  5, 19,  6, 16, 21,  9, 13])"
      ]
     },
     "execution_count": 9,
     "metadata": {},
     "output_type": "execute_result"
    }
   ],
   "source": [
    "np.random.randint(3, 27, 10)"
   ]
  },
  {
   "cell_type": "markdown",
   "metadata": {},
   "source": [
    "### se você limitar muito o intervalo, ele repete valores, como abaixo:"
   ]
  },
  {
   "cell_type": "code",
   "execution_count": 10,
   "metadata": {},
   "outputs": [
    {
     "data": {
      "text/plain": [
       "array([3, 3, 3, 3, 3, 3])"
      ]
     },
     "execution_count": 10,
     "metadata": {},
     "output_type": "execute_result"
    }
   ],
   "source": [
    "np.random.randint(3, 4, 6)"
   ]
  },
  {
   "cell_type": "markdown",
   "metadata": {},
   "source": [
    "# Os atributos mais importantes de um objeto array são:\n",
    "\n",
    "## ndarray.ndim\n",
    " - Nos dá o número de eixos (dimensões) da matriz.\n",
    " \n",
    "## ndarray.shape\n",
    "- Dá as dimensões da matriz. Esta é uma tupla de inteiros indicando o tamanho da matriz em cada dimensão. Para\n",
    "  matriz com n linhas em colunas, a forma será (n, m). O comprimento da tupla de forma é, portanto, o número\n",
    "  de dimensões, ndim.\n",
    "  \n",
    "## ndarray.size\n",
    " - nos dá o número total de elementos da matriz. \n",
    " \n",
    "## ndarray.dtype\n",
    " - um objeto que descreve o tipo dos elementos na matriz. Pode-se criar ou especificar dtype's usando o tipo padrão do Python.    Além disso, o NumPy fornece seus próprios tipos. (numpy.int32, numpy.int16 e numpy.float64) são alguns exemplos.\n",
    " \n",
    "## ndarray.itemsize\n",
    " - Nos dá o tamanho em bytes de cada elemento da matriz. Por exemplo, uma matriz de elementos do tipo float64 tem itemsize\n",
    "   8 (= 64/8), enquanto um do tipo complex32 tem tamanho de item 4 (= 32/8). \n",
    "   \n",
    "## ndarray.data\n",
    " - Nos dá o buffer que contém os elementos reais da matriz. Normalmente, não precisamos usar este atributo porque nós podemos \n",
    "   acessará os elementos em uma matriz usando recursos de indexação."
   ]
  },
  {
   "cell_type": "code",
   "execution_count": 11,
   "metadata": {},
   "outputs": [],
   "source": [
    "# Dado o Array:\n",
    "vetor = np.array([1, 2, 3, 4, 5, 6, 7, 9])"
   ]
  },
  {
   "cell_type": "code",
   "execution_count": 12,
   "metadata": {},
   "outputs": [
    {
     "name": "stdout",
     "output_type": "stream",
     "text": [
      "Meu número de eixos é: 1\n",
      "Meu número de dimensões é: (8,)\n",
      "Meu número de elementos é: 8\n",
      "Eu possuo o seguinte tipo de dados: int32\n",
      "O tamanho em bytes de cada elemento vetor é: 4\n",
      "O buffer que contém os elementos reais da matriz é: <memory at 0x000002B67EF8E408>\n"
     ]
    }
   ],
   "source": [
    "print(f'Meu número de eixos é: {vetor.ndim}')\n",
    "print(f'Meu número de dimensões é: {vetor.shape}')\n",
    "print(f'Meu número de elementos é: {vetor.size}')\n",
    "print(f'Eu possuo o seguinte tipo de dados: {vetor.dtype}')\n",
    "print(f'O tamanho em bytes de cada elemento vetor é: {vetor.itemsize}')\n",
    "print(f'O buffer que contém os elementos reais da matriz é: {vetor.data}')\n",
    "\n",
    "\n"
   ]
  },
  {
   "cell_type": "markdown",
   "metadata": {},
   "source": [
    "## Criação de algumas matrizes especiais:\n",
    "### Matriz com todos os elementos contendo \"0\"\n",
    "### Matriz com todos os elementos contendo \"1\"\n",
    "### Matriz Identidade\n",
    "### Matriz diagonal"
   ]
  },
  {
   "cell_type": "code",
   "execution_count": 13,
   "metadata": {},
   "outputs": [
    {
     "name": "stdout",
     "output_type": "stream",
     "text": [
      "[[0. 0. 0. 0. 0.]\n",
      " [0. 0. 0. 0. 0.]\n",
      " [0. 0. 0. 0. 0.]\n",
      " [0. 0. 0. 0. 0.]]\n"
     ]
    }
   ],
   "source": [
    "matriz_0 = np.zeros((4, 5))\n",
    "print(matriz_0)"
   ]
  },
  {
   "cell_type": "code",
   "execution_count": 14,
   "metadata": {},
   "outputs": [
    {
     "name": "stdout",
     "output_type": "stream",
     "text": [
      "[[1. 1. 1. 1. 1.]\n",
      " [1. 1. 1. 1. 1.]\n",
      " [1. 1. 1. 1. 1.]\n",
      " [1. 1. 1. 1. 1.]]\n"
     ]
    }
   ],
   "source": [
    "matriz_1 = np.ones((4, 5))\n",
    "print(matriz_1)"
   ]
  },
  {
   "cell_type": "code",
   "execution_count": 15,
   "metadata": {},
   "outputs": [
    {
     "name": "stdout",
     "output_type": "stream",
     "text": [
      "[[1. 0. 0. 0.]\n",
      " [0. 1. 0. 0.]\n",
      " [0. 0. 1. 0.]\n",
      " [0. 0. 0. 1.]]\n"
     ]
    }
   ],
   "source": [
    "matriz_identidade = np.eye(4)\n",
    "print(matriz_identidade)\n",
    "# Sempre uma madriz quadrada\n"
   ]
  },
  {
   "cell_type": "code",
   "execution_count": 16,
   "metadata": {},
   "outputs": [
    {
     "name": "stdout",
     "output_type": "stream",
     "text": [
      "[[4 0 0 0]\n",
      " [0 5 0 0]\n",
      " [0 0 1 0]\n",
      " [0 0 0 6]]\n"
     ]
    }
   ],
   "source": [
    "matriz_diag = np.diag([4, 5, 1, 6])\n",
    "print(matriz_diag)\n",
    "# Sempre uma madriz quadrada, a dimensão vai depender da quantidade de elementos da diagonal passada."
   ]
  },
  {
   "cell_type": "markdown",
   "metadata": {},
   "source": [
    "# Criando um Array com mais de uma dimensão "
   ]
  },
  {
   "cell_type": "code",
   "execution_count": 17,
   "metadata": {},
   "outputs": [],
   "source": [
    "b = np.array([[1, 2, 3], [1, 4, 9]])"
   ]
  },
  {
   "cell_type": "code",
   "execution_count": 18,
   "metadata": {},
   "outputs": [
    {
     "name": "stdout",
     "output_type": "stream",
     "text": [
      "[[1 2 3]\n",
      " [1 4 9]]\n"
     ]
    }
   ],
   "source": [
    "print(b)"
   ]
  },
  {
   "cell_type": "code",
   "execution_count": 19,
   "metadata": {},
   "outputs": [],
   "source": [
    "# Note que a quantidade de \"colchetes\" que inicializa e finaliza o Array, mostram quantas dimensões ele possui."
   ]
  },
  {
   "cell_type": "markdown",
   "metadata": {},
   "source": [
    "# Indexação de arrays"
   ]
  },
  {
   "cell_type": "markdown",
   "metadata": {},
   "source": [
    "## Indexação de arrays unidimensionais"
   ]
  },
  {
   "cell_type": "code",
   "execution_count": 20,
   "metadata": {},
   "outputs": [
    {
     "data": {
      "text/plain": [
       "array([34, 32, 32, 58, 34, 58, 40, 50, 28, 55])"
      ]
     },
     "execution_count": 20,
     "metadata": {},
     "output_type": "execute_result"
    }
   ],
   "source": [
    "exemplo = np.random.randint(20, 60, 10)\n",
    "exemplo"
   ]
  },
  {
   "cell_type": "markdown",
   "metadata": {},
   "source": [
    "### Pegando um elemento:"
   ]
  },
  {
   "cell_type": "code",
   "execution_count": 21,
   "metadata": {},
   "outputs": [
    {
     "data": {
      "text/plain": [
       "58"
      ]
     },
     "execution_count": 21,
     "metadata": {},
     "output_type": "execute_result"
    }
   ],
   "source": [
    "# Se eu quiser o elemento que se encontra no índice 3\n",
    "# Lembre-se que a indexação começa por 0\n",
    "exemplo[3]"
   ]
  },
  {
   "cell_type": "markdown",
   "metadata": {},
   "source": [
    "### exemplo[3]\n",
    "- exemplo = nome do array\n",
    "- [3] = índice onde se encontra o elemento que se quer"
   ]
  },
  {
   "cell_type": "markdown",
   "metadata": {},
   "source": [
    "### Pegando mais de um elemento:\n",
    "- Segue-se as regras de slice de listas, strings, ..."
   ]
  },
  {
   "cell_type": "code",
   "execution_count": 22,
   "metadata": {},
   "outputs": [
    {
     "name": "stdout",
     "output_type": "stream",
     "text": [
      "[34 58]\n"
     ]
    }
   ],
   "source": [
    "dois_elementos = exemplo[4:6]\n",
    "print(dois_elementos)"
   ]
  },
  {
   "cell_type": "markdown",
   "metadata": {},
   "source": [
    "### exemplo[4:6]\n",
    "- exemplo = nome do array\n",
    "- 4 = índice de início do slice (é incluído)\n",
    "- 6 = índice do final do slice (não é incluído)bb"
   ]
  },
  {
   "cell_type": "markdown",
   "metadata": {},
   "source": [
    "## Indexação de arrays com mais de uma dimensão"
   ]
  },
  {
   "cell_type": "markdown",
   "metadata": {},
   "source": [
    "### Observe a Matriz abaixo:"
   ]
  },
  {
   "cell_type": "code",
   "execution_count": 23,
   "metadata": {},
   "outputs": [
    {
     "data": {
      "text/plain": [
       "array([['00', '01', '02'],\n",
       "       ['10', '11', '12'],\n",
       "       ['20', '21', '22']], dtype='<U2')"
      ]
     },
     "execution_count": 23,
     "metadata": {},
     "output_type": "execute_result"
    }
   ],
   "source": [
    "linha_coluna = np.array([['00','01', '02'], ['10', '11', '12'], ['20', '21', '22']])\n",
    "linha_coluna"
   ]
  },
  {
   "cell_type": "markdown",
   "metadata": {},
   "source": [
    "### Os elementos da matriz representam suas linhas e colunas:\n",
    "- linhas a esquerda = 00 -> linha zero, coluna 0 ; 12 -> linha 1, coluna 2\n",
    "- colunas a direita = 12 -> linha 1, coluna 2"
   ]
  },
  {
   "cell_type": "markdown",
   "metadata": {},
   "source": [
    "### Exemplos de indexação de arrays com mais de uma dimenção:"
   ]
  },
  {
   "cell_type": "code",
   "execution_count": 24,
   "metadata": {},
   "outputs": [
    {
     "data": {
      "text/plain": [
       "array([[ 1,  5,  6,  4],\n",
       "       [12, 11,  1, 14],\n",
       "       [12,  6, 14, 13],\n",
       "       [13, 11, 11, 12]])"
      ]
     },
     "execution_count": 24,
     "metadata": {},
     "output_type": "execute_result"
    }
   ],
   "source": [
    "matriz = np.random.randint(1, 15, size=(4,4))\n",
    "matriz"
   ]
  },
  {
   "cell_type": "markdown",
   "metadata": {},
   "source": [
    "### Vamos pegar o elemento da linha 2 e coluna 1\n",
    "- lembre-se que a indexação em python começa com 0."
   ]
  },
  {
   "cell_type": "code",
   "execution_count": 25,
   "metadata": {},
   "outputs": [
    {
     "data": {
      "text/plain": [
       "6"
      ]
     },
     "execution_count": 25,
     "metadata": {},
     "output_type": "execute_result"
    }
   ],
   "source": [
    "matriz[2][1]"
   ]
  },
  {
   "cell_type": "markdown",
   "metadata": {},
   "source": [
    "### Vamos pegar as três primeiras linhas:"
   ]
  },
  {
   "cell_type": "code",
   "execution_count": 26,
   "metadata": {},
   "outputs": [
    {
     "data": {
      "text/plain": [
       "array([[ 1,  5,  6,  4],\n",
       "       [12, 11,  1, 14],\n",
       "       [12,  6, 14, 13]])"
      ]
     },
     "execution_count": 26,
     "metadata": {},
     "output_type": "execute_result"
    }
   ],
   "source": [
    "matriz[:][:3]"
   ]
  },
  {
   "cell_type": "markdown",
   "metadata": {},
   "source": [
    "### matriz[:][:3]\n",
    "- matriz = nome da Matriz\n",
    "- [:] = todo conteúdo da linha\n",
    "- [:3] = pegamos as colunas 0, 1 e 2"
   ]
  },
  {
   "cell_type": "code",
   "execution_count": 27,
   "metadata": {},
   "outputs": [
    {
     "data": {
      "text/plain": [
       "array([[12,  6, 14, 13]])"
      ]
     },
     "execution_count": 27,
     "metadata": {},
     "output_type": "execute_result"
    }
   ],
   "source": [
    "matriz[0:3][2:3]"
   ]
  },
  {
   "cell_type": "markdown",
   "metadata": {},
   "source": [
    "### Vamos pegar a terceira coluna ( em pytho seria a coluna 02)"
   ]
  },
  {
   "cell_type": "code",
   "execution_count": 30,
   "metadata": {},
   "outputs": [
    {
     "data": {
      "text/plain": [
       "array([[ 1],\n",
       "       [12],\n",
       "       [12],\n",
       "       [13]])"
      ]
     },
     "execution_count": 30,
     "metadata": {},
     "output_type": "execute_result"
    }
   ],
   "source": [
    "matriz[0:,0:1]\n",
    "# note que mudamos a notação!\n",
    "# assim eu consigo capturar as colunas desejadas."
   ]
  },
  {
   "cell_type": "markdown",
   "metadata": {},
   "source": [
    "### Repare que o array anterior é composto da primeira coluta  da Matriz"
   ]
  },
  {
   "cell_type": "code",
   "execution_count": 29,
   "metadata": {},
   "outputs": [
    {
     "data": {
      "text/plain": [
       "array([[ 5,  6],\n",
       "       [11,  1],\n",
       "       [ 6, 14],\n",
       "       [11, 11]])"
      ]
     },
     "execution_count": 29,
     "metadata": {},
     "output_type": "execute_result"
    }
   ],
   "source": [
    "# Vamos pegar a primeira e segunda colunas:\n",
    "matriz[:, 1:3]\n"
   ]
  },
  {
   "cell_type": "markdown",
   "metadata": {},
   "source": [
    "### Vamos capturar linhas não sequenciais da Matriz:"
   ]
  },
  {
   "cell_type": "code",
   "execution_count": 50,
   "metadata": {},
   "outputs": [],
   "source": [
    "matriz_1 = np.random.randint(1, 15, size=(6,4))"
   ]
  },
  {
   "cell_type": "code",
   "execution_count": 51,
   "metadata": {},
   "outputs": [
    {
     "data": {
      "text/plain": [
       "array([[14, 11,  4, 10],\n",
       "       [ 9,  5,  8, 13],\n",
       "       [12,  4,  6,  4],\n",
       "       [ 4, 13, 10,  6],\n",
       "       [ 9,  6, 13, 10],\n",
       "       [10, 13, 12, 12]])"
      ]
     },
     "execution_count": 51,
     "metadata": {},
     "output_type": "execute_result"
    }
   ],
   "source": [
    "matriz_1"
   ]
  },
  {
   "cell_type": "markdown",
   "metadata": {},
   "source": [
    "### Vamos pegar as linhas 0, 3 e 5:"
   ]
  },
  {
   "cell_type": "code",
   "execution_count": 53,
   "metadata": {},
   "outputs": [
    {
     "data": {
      "text/plain": [
       "array([[14, 11,  4, 10],\n",
       "       [ 4, 13, 10,  6],\n",
       "       [10, 13, 12, 12]])"
      ]
     },
     "execution_count": 53,
     "metadata": {},
     "output_type": "execute_result"
    }
   ],
   "source": [
    "matriz_1[[0, 3, 5]]"
   ]
  },
  {
   "cell_type": "markdown",
   "metadata": {},
   "source": [
    "### Pode ser em ordem aleatória."
   ]
  },
  {
   "cell_type": "code",
   "execution_count": 55,
   "metadata": {},
   "outputs": [
    {
     "data": {
      "text/plain": [
       "array([[10, 13, 12, 12],\n",
       "       [14, 11,  4, 10],\n",
       "       [12,  4,  6,  4]])"
      ]
     },
     "execution_count": 55,
     "metadata": {},
     "output_type": "execute_result"
    }
   ],
   "source": [
    "matriz_1[[5, 0, 2]]"
   ]
  },
  {
   "cell_type": "code",
   "execution_count": 59,
   "metadata": {},
   "outputs": [
    {
     "data": {
      "text/plain": [
       "array([[14, 11],\n",
       "       [ 9,  5],\n",
       "       [12,  4],\n",
       "       [ 4, 13],\n",
       "       [ 9,  6],\n",
       "       [10, 13]])"
      ]
     },
     "execution_count": 59,
     "metadata": {},
     "output_type": "execute_result"
    }
   ],
   "source": [
    "matriz_1[:, 0:2]"
   ]
  },
  {
   "cell_type": "code",
   "execution_count": null,
   "metadata": {},
   "outputs": [],
   "source": []
  }
 ],
 "metadata": {
  "kernelspec": {
   "display_name": "Python 3.7.1 64-bit ('base': conda)",
   "language": "python",
   "name": "python37164bitbasecondac8b4d9f5402d4ee796879211d41505b2"
  },
  "language_info": {
   "codemirror_mode": {
    "name": "ipython",
    "version": 3
   },
   "file_extension": ".py",
   "mimetype": "text/x-python",
   "name": "python",
   "nbconvert_exporter": "python",
   "pygments_lexer": "ipython3",
   "version": "3.7.1"
  }
 },
 "nbformat": 4,
 "nbformat_minor": 2
}
