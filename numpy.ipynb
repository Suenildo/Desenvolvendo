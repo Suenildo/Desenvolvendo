{
 "cells": [
  {
   "cell_type": "markdown",
   "metadata": {
    "slideshow": {
     "slide_type": "-"
    }
   },
   "source": [
    "# O que é Numpy\n",
    "\n",
    "###  Numpy é um pacote para computação científica usado em Python, que fornece recursos e uma variedade de rotinas para operações rápidas em matrizes, incluindo matemática, lógica, manipulação de formas, classificação, seleção, E/S (I/O), transformações discretas de Fourier, álgebra linear básica, operações estatísticas básicas, simulação aleatória e muito mais.\n"
   ]
  },
  {
   "cell_type": "markdown",
   "metadata": {},
   "source": [
    "## Criação de um Array:\n",
    "\n",
    "### 1) A biblioteca Numpy não é nativa, logo temos que importá-la;\n",
    "### 2) É comum na comunidade Python você dá um elias para a biblioteca, usaremos a padrão \"np\";\n",
    "### 3) Guardamos o Array em uma variável."
   ]
  },
  {
   "cell_type": "code",
   "execution_count": 1,
   "metadata": {},
   "outputs": [],
   "source": [
    "import numpy as np"
   ]
  },
  {
   "cell_type": "markdown",
   "metadata": {},
   "source": [
    "## Criando um Array unidimensional "
   ]
  },
  {
   "cell_type": "code",
   "execution_count": 2,
   "metadata": {},
   "outputs": [],
   "source": [
    "a = np.array([1, 2, 3])"
   ]
  },
  {
   "cell_type": "code",
   "execution_count": 3,
   "metadata": {},
   "outputs": [
    {
     "name": "stdout",
     "output_type": "stream",
     "text": [
      "<class 'numpy.ndarray'>\n",
      "[1 2 3]\n"
     ]
    }
   ],
   "source": [
    "# observemos o tipo do objeto criado\n",
    "print(type(a)) \n",
    "print(a)"
   ]
  },
  {
   "cell_type": "markdown",
   "metadata": {},
   "source": [
    "## Criando um Array com a função ( arange() )\n",
    "- A função arange cria um arranjo contendo uma seqüência de valores especificados em um intervalo com início e fim dados, espaçados de maneira uniforme."
   ]
  },
  {
   "cell_type": "markdown",
   "metadata": {},
   "source": [
    "### np.arange(2, 15, 3, dtype=float)\n",
    "- 2 = ponto de partida\n",
    "- 15 = ponto de parada\n",
    "- 3 = incremento\n",
    "- dtype=float = tpipo de dado"
   ]
  },
  {
   "cell_type": "code",
   "execution_count": 4,
   "metadata": {},
   "outputs": [
    {
     "data": {
      "text/plain": [
       "array([1., 3., 5., 7., 9.])"
      ]
     },
     "execution_count": 4,
     "metadata": {},
     "output_type": "execute_result"
    }
   ],
   "source": [
    "np.arange(1, 10, 2, dtype=float)"
   ]
  },
  {
   "cell_type": "markdown",
   "metadata": {},
   "source": [
    "## Criando um Array com o método ( linspace() )\n",
    "-  A função linspace cria uma seqüência de números uniformemente espaçados entre os limites dados."
   ]
  },
  {
   "cell_type": "markdown",
   "metadata": {},
   "source": [
    "### np.linspace(1.0, 10.0, num = 5, dtype=float)\n",
    "- 1.0 = ponto de partida\n",
    "- 10.0 = ponto de parada\n",
    "- 5 = quantidade de valores\n",
    "- dtype=float = tipo de dado"
   ]
  },
  {
   "cell_type": "code",
   "execution_count": 5,
   "metadata": {},
   "outputs": [
    {
     "data": {
      "text/plain": [
       "array([ 1. ,  2.5,  4. ,  5.5,  7. ,  8.5, 10. ])"
      ]
     },
     "execution_count": 5,
     "metadata": {},
     "output_type": "execute_result"
    }
   ],
   "source": [
    "np.linspace(1, 10, num=7, dtype=float)"
   ]
  },
  {
   "cell_type": "markdown",
   "metadata": {},
   "source": [
    "## Criando um Array com:\n",
    "### rand\n",
    "- Cria um array com distribuição uniforme de números aleatórios entre 0 e 1.\n",
    " - np.random.rand(10)\n",
    "   - 10 = número de valores.\n",
    "   \n",
    "### randn\n",
    "- Cria um array de distribuição normal, de média 0 e variância 1.\n",
    " - np.random.randn(10)\n",
    "   - 10 = número de valores.\n",
    "\n",
    "\n",
    "### randint\n",
    "- Cria um array com o número determinado de valores inteiros, aleatórios em um intervalo estabelecido. \n",
    " - np.random.randint(5, 20, 12)\n",
    "   - 5 = início \n",
    "   - 20 = final \n",
    "   - 12 = quantidade de valores"
   ]
  },
  {
   "cell_type": "code",
   "execution_count": 10,
   "metadata": {},
   "outputs": [
    {
     "data": {
      "text/plain": [
       "array([0.83142724, 0.54364796, 0.31834   , 0.81551447, 0.21008779,\n",
       "       0.98227052, 0.81535052, 0.77066535, 0.55808399, 0.51455287,\n",
       "       0.45852474, 0.29464199, 0.61853925, 0.93949436, 0.4552601 ,\n",
       "       0.18658242, 0.36562028, 0.28579802, 0.2527317 , 0.5997818 ,\n",
       "       0.3073718 , 0.65478574, 0.17317511])"
      ]
     },
     "execution_count": 10,
     "metadata": {},
     "output_type": "execute_result"
    }
   ],
   "source": [
    "np.random.rand(23)      "
   ]
  },
  {
   "cell_type": "code",
   "execution_count": 11,
   "metadata": {},
   "outputs": [
    {
     "data": {
      "text/plain": [
       "array([-0.1478466 ,  1.20622335, -0.59236953, -1.37509721, -0.22070083,\n",
       "        0.6797781 ,  0.81060657, -0.49687069,  0.29952694, -2.20629175,\n",
       "       -1.18506427, -0.95595904])"
      ]
     },
     "execution_count": 11,
     "metadata": {},
     "output_type": "execute_result"
    }
   ],
   "source": [
    "np.random.randn(12)"
   ]
  },
  {
   "cell_type": "code",
   "execution_count": 12,
   "metadata": {},
   "outputs": [
    {
     "data": {
      "text/plain": [
       "array([13, 19, 11, 21, 19, 23,  3, 12, 25, 10])"
      ]
     },
     "execution_count": 12,
     "metadata": {},
     "output_type": "execute_result"
    }
   ],
   "source": [
    "np.random.randint(3, 27, 10)"
   ]
  },
  {
   "cell_type": "markdown",
   "metadata": {},
   "source": [
    "### se você limitar muito o intervalo, ele repete valores, como abaixo:"
   ]
  },
  {
   "cell_type": "code",
   "execution_count": 13,
   "metadata": {},
   "outputs": [
    {
     "data": {
      "text/plain": [
       "array([3, 3, 3, 3, 3, 3])"
      ]
     },
     "execution_count": 13,
     "metadata": {},
     "output_type": "execute_result"
    }
   ],
   "source": [
    "np.random.randint(3, 4, 6)"
   ]
  },
  {
   "cell_type": "markdown",
   "metadata": {},
   "source": [
    "## Criando um Array com mais de uma dimensão "
   ]
  },
  {
   "cell_type": "code",
   "execution_count": 6,
   "metadata": {},
   "outputs": [],
   "source": [
    "b = np.array([[1, 2, 3], [1, 4, 9]])"
   ]
  },
  {
   "cell_type": "code",
   "execution_count": 7,
   "metadata": {},
   "outputs": [
    {
     "name": "stdout",
     "output_type": "stream",
     "text": [
      "[[1 2 3]\n",
      " [1 4 9]]\n"
     ]
    }
   ],
   "source": [
    "print(b)"
   ]
  },
  {
   "cell_type": "markdown",
   "metadata": {},
   "source": [
    "# Os atributos mais importantes de um objeto array são:\n",
    "\n",
    "## ndarray.ndim\n",
    " - Nos dá o número de eixos (dimensões) da matriz.\n",
    " \n",
    "## ndarray.shape\n",
    "- Dá as dimensões da matriz. Esta é uma tupla de inteiros indicando o tamanho da matriz em cada dimensão. Para\n",
    "  matriz com n linhas em colunas, a forma será (n, m). O comprimento da tupla de forma é, portanto, o número\n",
    "  de dimensões, ndim.\n",
    "  \n",
    "## ndarray.size\n",
    " - nos dá o número total de elementos da matriz. \n",
    " \n",
    "## ndarray.dtype\n",
    " - um objeto que descreve o tipo dos elementos na matriz. Pode-se criar ou especificar dtype's usando o tipo padrão do Python.    Além disso, o NumPy fornece seus próprios tipos. (numpy.int32, numpy.int16 e numpy.float64) são alguns exemplos.\n",
    " \n",
    "## ndarray.itemsize\n",
    " - Nos dá o tamanho em bytes de cada elemento da matriz. Por exemplo, uma matriz de elementos do tipo float64 tem itemsize\n",
    "   8 (= 64/8), enquanto um do tipo complex32 tem tamanho de item 4 (= 32/8). \n",
    "   \n",
    "## ndarray.data\n",
    " - Nos dá o buffer que contém os elementos reais da matriz. Normalmente, não precisamos usar este atributo porque nós podemos \n",
    "   acessará os elementos em uma matriz usando recursos de indexação."
   ]
  },
  {
   "cell_type": "code",
   "execution_count": null,
   "metadata": {},
   "outputs": [],
   "source": []
  }
 ],
 "metadata": {
  "kernelspec": {
   "display_name": "Python 3.7.1 64-bit ('base': conda)",
   "language": "python",
   "name": "python37164bitbasecondac8b4d9f5402d4ee796879211d41505b2"
  },
  "language_info": {
   "codemirror_mode": {
    "name": "ipython",
    "version": 3
   },
   "file_extension": ".py",
   "mimetype": "text/x-python",
   "name": "python",
   "nbconvert_exporter": "python",
   "pygments_lexer": "ipython3",
   "version": "3.7.1"
  }
 },
 "nbformat": 4,
 "nbformat_minor": 2
}
