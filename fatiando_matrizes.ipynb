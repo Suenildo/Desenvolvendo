{
 "cells": [
  {
   "cell_type": "code",
   "execution_count": 1,
   "metadata": {},
   "outputs": [],
   "source": [
    "import numpy as np"
   ]
  },
  {
   "cell_type": "markdown",
   "metadata": {},
   "source": [
    "## Indexação de arrays unidimensionais"
   ]
  },
  {
   "cell_type": "code",
   "execution_count": 2,
   "metadata": {},
   "outputs": [
    {
     "data": {
      "text/plain": [
       "array([58, 26, 37, 30, 22, 20, 28, 30, 25, 59])"
      ]
     },
     "execution_count": 2,
     "metadata": {},
     "output_type": "execute_result"
    }
   ],
   "source": [
    "exemplo = np.random.randint(20, 60, 10)\n",
    "exemplo"
   ]
  },
  {
   "cell_type": "markdown",
   "metadata": {},
   "source": [
    "### Pegando um elemento:"
   ]
  },
  {
   "cell_type": "code",
   "execution_count": 3,
   "metadata": {},
   "outputs": [
    {
     "data": {
      "text/plain": [
       "30"
      ]
     },
     "execution_count": 3,
     "metadata": {},
     "output_type": "execute_result"
    }
   ],
   "source": [
    "# Se eu quiser o elemento que se encontra no índice 3 desse único array (vetor)\n",
    "# Lembre-se que a indexação começa por 0\n",
    "exemplo[3]"
   ]
  },
  {
   "cell_type": "markdown",
   "metadata": {},
   "source": [
    "### exemplo[3]\n",
    "- exemplo = nome do array\n",
    "- [3] = índice onde se encontra o elemento que se quer"
   ]
  },
  {
   "cell_type": "markdown",
   "metadata": {},
   "source": [
    "### Pegando mais de um elemento:\n",
    "- Segue-se as regras de slice de listas, strings, ..."
   ]
  },
  {
   "cell_type": "code",
   "execution_count": 4,
   "metadata": {},
   "outputs": [
    {
     "name": "stdout",
     "output_type": "stream",
     "text": [
      "[22 20]\n"
     ]
    }
   ],
   "source": [
    "dois_elementos = exemplo[4:6]  # Vamos pegar os elementos no intervalo de 4 a 6(este não incluso)\n",
    "print(dois_elementos)          # Assim os elementos pegos serão os de índice 4 e 5"
   ]
  },
  {
   "cell_type": "markdown",
   "metadata": {},
   "source": [
    "### exemplo[4:6]\n",
    "- exemplo = nome do array\n",
    "- 4 = índice de início do slice (é incluído)\n",
    "- 6 = índice do final do slice (não é incluído)bb"
   ]
  },
  {
   "cell_type": "markdown",
   "metadata": {},
   "source": [
    "## Indexação de arrays com mais de uma dimensão"
   ]
  },
  {
   "cell_type": "markdown",
   "metadata": {},
   "source": [
    "### Observe a Matriz abaixo:"
   ]
  },
  {
   "cell_type": "code",
   "execution_count": 5,
   "metadata": {},
   "outputs": [
    {
     "data": {
      "text/plain": [
       "array([['00', '01', '02'],\n",
       "       ['10', '11', '12'],\n",
       "       ['20', '21', '22']], dtype='<U2')"
      ]
     },
     "execution_count": 5,
     "metadata": {},
     "output_type": "execute_result"
    }
   ],
   "source": [
    "linha_coluna = np.array([['00','01', '02'], ['10', '11', '12'], ['20', '21', '22']])\n",
    "linha_coluna"
   ]
  },
  {
   "cell_type": "markdown",
   "metadata": {},
   "source": [
    "### Os elementos da matriz representam suas linhas e colunas:\n",
    "- [linha, coluna]\n",
    "- linhas a esquerda = 00 -> linha zero, coluna 0 ;  \n",
    "- colunas a direita = 12 -> linha 1, coluna 2\n"
   ]
  },
  {
   "cell_type": "markdown",
   "metadata": {},
   "source": [
    "### Exemplos de indexação de arrays com mais de uma dimenção:"
   ]
  },
  {
   "cell_type": "code",
   "execution_count": 6,
   "metadata": {},
   "outputs": [
    {
     "data": {
      "text/plain": [
       "array([[ 9,  2,  9, 10],\n",
       "       [ 5, 14,  3, 11],\n",
       "       [ 6,  3,  8,  4],\n",
       "       [ 7,  3,  9,  7]])"
      ]
     },
     "execution_count": 6,
     "metadata": {},
     "output_type": "execute_result"
    }
   ],
   "source": [
    "matriz = np.random.randint(1, 15, size=(4,4))\n",
    "matriz"
   ]
  },
  {
   "cell_type": "markdown",
   "metadata": {},
   "source": [
    "### Vamos pegar o elemento da linha 2 e coluna 1\n",
    "- lembre-se que a indexação em python começa com 0."
   ]
  },
  {
   "cell_type": "code",
   "execution_count": 7,
   "metadata": {},
   "outputs": [
    {
     "data": {
      "text/plain": [
       "3"
      ]
     },
     "execution_count": 7,
     "metadata": {},
     "output_type": "execute_result"
    }
   ],
   "source": [
    "matriz[2][1]"
   ]
  },
  {
   "cell_type": "markdown",
   "metadata": {},
   "source": [
    "### Vamos pegar as três primeiras linhas:"
   ]
  },
  {
   "cell_type": "code",
   "execution_count": 29,
   "metadata": {},
   "outputs": [
    {
     "data": {
      "text/plain": [
       "array([[ 9,  2,  9, 10],\n",
       "       [ 5, 14,  3, 11],\n",
       "       [ 6,  3,  8,  4]])"
      ]
     },
     "execution_count": 29,
     "metadata": {},
     "output_type": "execute_result"
    }
   ],
   "source": [
    "matriz[:][0:3] "
   ]
  },
  {
   "cell_type": "markdown",
   "metadata": {},
   "source": [
    "### matriz[:][:3]\n",
    "- matriz = nome da Matriz\n",
    "- [:] = todo conteúdo da linha\n",
    "- [:3] = pegamos as colunas 0, 1 e 2"
   ]
  },
  {
   "cell_type": "code",
   "execution_count": 9,
   "metadata": {},
   "outputs": [
    {
     "data": {
      "text/plain": [
       "array([[ 9,  2,  9, 10],\n",
       "       [ 5, 14,  3, 11],\n",
       "       [ 6,  3,  8,  4]])"
      ]
     },
     "execution_count": 9,
     "metadata": {},
     "output_type": "execute_result"
    }
   ],
   "source": [
    "matriz[0:3, 0:4]"
   ]
  },
  {
   "cell_type": "code",
   "execution_count": 30,
   "metadata": {},
   "outputs": [
    {
     "data": {
      "text/plain": [
       "array([[6, 3, 8, 4]])"
      ]
     },
     "execution_count": 30,
     "metadata": {},
     "output_type": "execute_result"
    }
   ],
   "source": [
    "matriz[0:3][2:3]"
   ]
  },
  {
   "cell_type": "code",
   "execution_count": 11,
   "metadata": {},
   "outputs": [
    {
     "data": {
      "text/plain": [
       "array([[6, 3, 8, 4]])"
      ]
     },
     "execution_count": 11,
     "metadata": {},
     "output_type": "execute_result"
    }
   ],
   "source": [
    "matriz[2:3, 0:4] # pega somente a linha 2 e todos o seu conteúdo."
   ]
  },
  {
   "cell_type": "code",
   "execution_count": 62,
   "metadata": {},
   "outputs": [
    {
     "data": {
      "text/plain": [
       "array([[88, 19, 46, 74, 94],\n",
       "       [69, 79, 26,  7, 29],\n",
       "       [21, 45, 12, 80, 72],\n",
       "       [28, 53, 65, 26, 64],\n",
       "       [71, 96, 34, 61, 52]])"
      ]
     },
     "execution_count": 62,
     "metadata": {},
     "output_type": "execute_result"
    }
   ],
   "source": [
    "nova_matriz = np.array([[88, 19, 46, 74, 94], [69, 79, 26, 7, 29], [21, 45, 12, 80, 72],\n",
    "                       [28, 53, 65, 26, 64], [71, 96, 34, 61, 52]])\n",
    "nova_matriz"
   ]
  },
  {
   "cell_type": "markdown",
   "metadata": {},
   "source": [
    "### Vamos pegar os elementos sequenciais: 79, 26, 7\n"
   ]
  },
  {
   "cell_type": "code",
   "execution_count": 35,
   "metadata": {},
   "outputs": [
    {
     "data": {
      "text/plain": [
       "array([[79, 26,  7]])"
      ]
     },
     "execution_count": 35,
     "metadata": {},
     "output_type": "execute_result"
    }
   ],
   "source": [
    "nova_matriz[1:2, 1:4]  # [1:2 ,...] Elementos da linha 1 até a 2(não incluso), então somente a linha 1\n",
    "                       # [..., 1:4] Elementos da coluna 1 até a 4 (não incluso), então somente até a coluna 3."
   ]
  },
  {
   "cell_type": "markdown",
   "metadata": {},
   "source": [
    "### Vamos pegar a mesma sequência com outra notação:    "
   ]
  },
  {
   "cell_type": "code",
   "execution_count": 96,
   "metadata": {},
   "outputs": [
    {
     "data": {
      "text/plain": [
       "array([[69, 79, 26,  7, 29]])"
      ]
     },
     "execution_count": 96,
     "metadata": {},
     "output_type": "execute_result"
    }
   ],
   "source": [
    "nova_matriz[1:2][:]"
   ]
  },
  {
   "cell_type": "markdown",
   "metadata": {},
   "source": [
    "Vamos pegar os seguintes elementos:\n",
    " - 79, 26, 7\n",
    " - 45, 12, 80"
   ]
  },
  {
   "cell_type": "code",
   "execution_count": 37,
   "metadata": {},
   "outputs": [
    {
     "data": {
      "text/plain": [
       "array([[79, 26,  7],\n",
       "       [45, 12, 80]])"
      ]
     },
     "execution_count": 37,
     "metadata": {},
     "output_type": "execute_result"
    }
   ],
   "source": [
    "nova_matriz[1:3, 1:4]"
   ]
  },
  {
   "cell_type": "markdown",
   "metadata": {},
   "source": [
    "### Vamos pegar a quarta coluna ( em pytho seria a coluna 03)"
   ]
  },
  {
   "cell_type": "code",
   "execution_count": 31,
   "metadata": {},
   "outputs": [
    {
     "data": {
      "text/plain": [
       "array([[10],\n",
       "       [11],\n",
       "       [ 4],\n",
       "       [ 7]])"
      ]
     },
     "execution_count": 31,
     "metadata": {},
     "output_type": "execute_result"
    }
   ],
   "source": [
    "matriz[0:,3:4]\n",
    "# note que mudamos a notação!\n",
    "# assim eu consigo capturar as colunas desejadas."
   ]
  },
  {
   "cell_type": "markdown",
   "metadata": {},
   "source": [
    "### Repare que o array anterior é composto da terceira coluna  da Matriz"
   ]
  },
  {
   "cell_type": "code",
   "execution_count": 13,
   "metadata": {},
   "outputs": [
    {
     "data": {
      "text/plain": [
       "array([[ 2,  9],\n",
       "       [14,  3],\n",
       "       [ 3,  8],\n",
       "       [ 3,  9]])"
      ]
     },
     "execution_count": 13,
     "metadata": {},
     "output_type": "execute_result"
    }
   ],
   "source": [
    "# Vamos pegar a primeira e segunda colunas:\n",
    "matriz[:, 1:3]\n"
   ]
  },
  {
   "cell_type": "markdown",
   "metadata": {},
   "source": [
    "### Vamos capturar linhas não sequenciais da Matriz:"
   ]
  },
  {
   "cell_type": "code",
   "execution_count": 14,
   "metadata": {},
   "outputs": [],
   "source": [
    "matriz_1 = np.random.randint(1, 15, size=(6,4))"
   ]
  },
  {
   "cell_type": "code",
   "execution_count": 15,
   "metadata": {},
   "outputs": [
    {
     "data": {
      "text/plain": [
       "array([[ 3,  6, 10,  5],\n",
       "       [ 7,  7,  3,  8],\n",
       "       [12,  6,  1,  2],\n",
       "       [12,  6,  4,  7],\n",
       "       [10, 12, 12,  3],\n",
       "       [14,  1,  1,  4]])"
      ]
     },
     "execution_count": 15,
     "metadata": {},
     "output_type": "execute_result"
    }
   ],
   "source": [
    "matriz_1"
   ]
  },
  {
   "cell_type": "markdown",
   "metadata": {},
   "source": [
    "### Vamos pegar as linhas 0, 3 e 5:"
   ]
  },
  {
   "cell_type": "code",
   "execution_count": 16,
   "metadata": {},
   "outputs": [
    {
     "data": {
      "text/plain": [
       "array([[ 3,  6, 10,  5],\n",
       "       [12,  6,  4,  7],\n",
       "       [14,  1,  1,  4]])"
      ]
     },
     "execution_count": 16,
     "metadata": {},
     "output_type": "execute_result"
    }
   ],
   "source": [
    "matriz_1[[0, 3, 5]]"
   ]
  },
  {
   "cell_type": "markdown",
   "metadata": {},
   "source": [
    "### Pode ser em ordem aleatória."
   ]
  },
  {
   "cell_type": "code",
   "execution_count": 17,
   "metadata": {},
   "outputs": [
    {
     "data": {
      "text/plain": [
       "array([[14,  1,  1,  4],\n",
       "       [ 3,  6, 10,  5],\n",
       "       [12,  6,  1,  2]])"
      ]
     },
     "execution_count": 17,
     "metadata": {},
     "output_type": "execute_result"
    }
   ],
   "source": [
    "matriz_1[[5, 0, 2]]"
   ]
  },
  {
   "cell_type": "code",
   "execution_count": 18,
   "metadata": {},
   "outputs": [
    {
     "data": {
      "text/plain": [
       "array([[ 3,  6],\n",
       "       [ 7,  7],\n",
       "       [12,  6],\n",
       "       [12,  6],\n",
       "       [10, 12],\n",
       "       [14,  1]])"
      ]
     },
     "execution_count": 18,
     "metadata": {},
     "output_type": "execute_result"
    }
   ],
   "source": [
    "matriz_1[:, 0:2]"
   ]
  },
  {
   "cell_type": "code",
   "execution_count": 19,
   "metadata": {},
   "outputs": [
    {
     "data": {
      "text/plain": [
       "array([[ 1, 11, 18,  8, 34],\n",
       "       [ 8,  3, 31,  1,  6],\n",
       "       [29, 12,  3, 39,  4],\n",
       "       [11, 25,  6,  1, 36],\n",
       "       [15, 12, 32,  8, 31]])"
      ]
     },
     "execution_count": 19,
     "metadata": {},
     "output_type": "execute_result"
    }
   ],
   "source": [
    "capturando_sequencias = np.array([[ 1, 11, 18,  8, 34],\n",
    "                                  [ 8,  3, 31,  1,  6],\n",
    "                                  [29, 12,  3, 39,  4],\n",
    "                                  [11, 25,  6,  1, 36],\n",
    "                                  [15, 12, 32,  8, 31]])\n",
    "capturando_sequencias"
   ]
  },
  {
   "cell_type": "markdown",
   "metadata": {},
   "source": [
    "### Vamos pegar a seguinte sequência:\n",
    " - 12, 3, 39 ==> linha 3  da matriz (em python linha 2) e colunas 2, 3 e 4 (em python 1, 2 e 3)\n",
    " - 25, 6, 1  ==> linha 4  da matriz (em python linha 3) e colunas 2, 3 e 4 (em python 1, 2 e 3)"
   ]
  },
  {
   "cell_type": "code",
   "execution_count": 20,
   "metadata": {},
   "outputs": [
    {
     "data": {
      "text/plain": [
       "array([[12,  3, 39],\n",
       "       [25,  6,  1]])"
      ]
     },
     "execution_count": 20,
     "metadata": {},
     "output_type": "execute_result"
    }
   ],
   "source": [
    "capturando_sequencias[2:4,1:4]"
   ]
  },
  {
   "cell_type": "markdown",
   "metadata": {},
   "source": [
    "## Capturando valores em uma matriz por uma determinada condição"
   ]
  },
  {
   "cell_type": "markdown",
   "metadata": {},
   "source": [
    "### Vamos supor que uma certa quantidade de crianças, em um parque, querem entrar em um brinquedo.\n",
    " - para entrar no brinquedo, tem que ter a altura a partir de 120cm\n",
    " - a matriz é composta das alturas das crianças"
   ]
  },
  {
   "cell_type": "markdown",
   "metadata": {},
   "source": [
    "### Trivial"
   ]
  },
  {
   "cell_type": "code",
   "execution_count": 21,
   "metadata": {},
   "outputs": [
    {
     "data": {
      "text/plain": [
       "array([[132, 126, 121,  98,  90,  91],\n",
       "       [100, 134, 105, 107, 110, 106],\n",
       "       [133,  94, 131, 127, 120, 110],\n",
       "       [111,  98, 116, 130, 102, 117],\n",
       "       [105, 119, 136,  99, 107, 102],\n",
       "       [ 99, 102, 134, 133, 108, 116]])"
      ]
     },
     "execution_count": 21,
     "metadata": {},
     "output_type": "execute_result"
    }
   ],
   "source": [
    "altura_criancas = np.array([[132, 126, 121,  98,  90,  91],\n",
    "                            [100, 134, 105, 107, 110, 106],\n",
    "                            [133,  94, 131, 127, 120, 110],\n",
    "                            [111,  98, 116, 130, 102, 117],\n",
    "                            [105, 119, 136,  99, 107, 102],\n",
    "                            [ 99, 102, 134, 133, 108, 116]])\n",
    "altura_criancas"
   ]
  },
  {
   "cell_type": "code",
   "execution_count": 22,
   "metadata": {},
   "outputs": [
    {
     "data": {
      "text/plain": [
       "array([[ True,  True,  True, False, False, False],\n",
       "       [False,  True, False, False, False, False],\n",
       "       [ True, False,  True,  True,  True, False],\n",
       "       [False, False, False,  True, False, False],\n",
       "       [False, False,  True, False, False, False],\n",
       "       [False, False,  True,  True, False, False]])"
      ]
     },
     "execution_count": 22,
     "metadata": {},
     "output_type": "execute_result"
    }
   ],
   "source": [
    "# Vamos colocar a condição para a seleção:\n",
    "entrada_permitida = altura_criancas > 119 \n",
    "entrada_permitida"
   ]
  },
  {
   "cell_type": "code",
   "execution_count": 23,
   "metadata": {},
   "outputs": [
    {
     "data": {
      "text/plain": [
       "array([132, 126, 121, 134, 133, 131, 127, 120, 130, 136, 134, 133])"
      ]
     },
     "execution_count": 23,
     "metadata": {},
     "output_type": "execute_result"
    }
   ],
   "source": [
    "# Vamos expor as alturas que atendem a condição:\n",
    "altura_criancas[entrada_permitida]"
   ]
  },
  {
   "cell_type": "markdown",
   "metadata": {},
   "source": [
    "### Otimizando"
   ]
  },
  {
   "cell_type": "code",
   "execution_count": 24,
   "metadata": {},
   "outputs": [
    {
     "data": {
      "text/plain": [
       "array([132, 126, 121, 134, 133, 131, 127, 120, 130, 136, 134, 133])"
      ]
     },
     "execution_count": 24,
     "metadata": {},
     "output_type": "execute_result"
    }
   ],
   "source": [
    "altura_criancas[altura_criancas>119]"
   ]
  },
  {
   "cell_type": "markdown",
   "metadata": {},
   "source": [
    "### Outra maneira\n",
    " - Usando a função extract do Numpy"
   ]
  },
  {
   "cell_type": "code",
   "execution_count": 25,
   "metadata": {},
   "outputs": [],
   "source": [
    "condicao_exigida = altura_criancas>119"
   ]
  },
  {
   "cell_type": "code",
   "execution_count": 26,
   "metadata": {},
   "outputs": [
    {
     "data": {
      "text/plain": [
       "array([132, 126, 121, 134, 133, 131, 127, 120, 130, 136, 134, 133])"
      ]
     },
     "execution_count": 26,
     "metadata": {},
     "output_type": "execute_result"
    }
   ],
   "source": [
    "condicao_atendida = np.extract(condicao_exigida, altura_criancas)\n",
    "condicao_atendida"
   ]
  },
  {
   "cell_type": "code",
   "execution_count": null,
   "metadata": {},
   "outputs": [],
   "source": []
  }
 ],
 "metadata": {
  "kernelspec": {
   "display_name": "Python 3.7.1 64-bit ('base': conda)",
   "language": "python",
   "name": "python37164bitbasecondac8b4d9f5402d4ee796879211d41505b2"
  },
  "language_info": {
   "codemirror_mode": {
    "name": "ipython",
    "version": 3
   },
   "file_extension": ".py",
   "mimetype": "text/x-python",
   "name": "python",
   "nbconvert_exporter": "python",
   "pygments_lexer": "ipython3",
   "version": "3.7.1"
  }
 },
 "nbformat": 4,
 "nbformat_minor": 2
}
